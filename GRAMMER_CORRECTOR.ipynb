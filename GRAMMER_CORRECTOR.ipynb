{
  "nbformat": 4,
  "nbformat_minor": 0,
  "metadata": {
    "colab": {
      "name": "GRAMMER_CORRECTOR.ipynb",
      "provenance": []
    },
    "kernelspec": {
      "name": "python3",
      "display_name": "Python 3"
    },
    "language_info": {
      "name": "python"
    },
    "accelerator": "GPU"
  },
  "cells": [
    {
      "cell_type": "code",
      "metadata": {
        "colab": {
          "base_uri": "https://localhost:8080/"
        },
        "id": "1qO8mIsopH4A",
        "outputId": "5e2573e3-e64a-48ed-8f52-7c0643af023b"
      },
      "source": [
        "!pip install torch==1.8.1+cu111 torchvision==0.9.1+cu111 torchaudio===0.8.1 -f https://download.pytorch.org/whl/lts/1.8/torch_lts.html\n",
        "\n"
      ],
      "execution_count": 1,
      "outputs": [
        {
          "output_type": "stream",
          "text": [
            "Looking in links: https://download.pytorch.org/whl/lts/1.8/torch_lts.html\n",
            "Collecting torch==1.8.1+cu111\n",
            "\u001b[?25l  Downloading https://download.pytorch.org/whl/lts/1.8/cu111/torch-1.8.1%2Bcu111-cp37-cp37m-linux_x86_64.whl (1982.2MB)\n",
            "\u001b[K     |█████████████▌                  | 834.1MB 1.6MB/s eta 0:11:49tcmalloc: large alloc 1147494400 bytes == 0x55f645abe000 @  0x7f54d6cbf615 0x55f64324ccdc 0x55f64332c52a 0x55f64324fafd 0x55f643340fed 0x55f6432c3988 0x55f6432be4ae 0x55f6432513ea 0x55f6432c37f0 0x55f6432be4ae 0x55f6432513ea 0x55f6432c032a 0x55f643341e36 0x55f6432bf853 0x55f643341e36 0x55f6432bf853 0x55f643341e36 0x55f6432bf853 0x55f643341e36 0x55f6433c43e1 0x55f6433246a9 0x55f64328fcc4 0x55f643250559 0x55f6432c44f8 0x55f64325130a 0x55f6432bf3b5 0x55f6432be7ad 0x55f6432513ea 0x55f6432bf3b5 0x55f64325130a 0x55f6432bf3b5\n",
            "\u001b[K     |█████████████████               | 1055.7MB 1.3MB/s eta 0:12:20tcmalloc: large alloc 1434370048 bytes == 0x55f68a114000 @  0x7f54d6cbf615 0x55f64324ccdc 0x55f64332c52a 0x55f64324fafd 0x55f643340fed 0x55f6432c3988 0x55f6432be4ae 0x55f6432513ea 0x55f6432c37f0 0x55f6432be4ae 0x55f6432513ea 0x55f6432c032a 0x55f643341e36 0x55f6432bf853 0x55f643341e36 0x55f6432bf853 0x55f643341e36 0x55f6432bf853 0x55f643341e36 0x55f6433c43e1 0x55f6433246a9 0x55f64328fcc4 0x55f643250559 0x55f6432c44f8 0x55f64325130a 0x55f6432bf3b5 0x55f6432be7ad 0x55f6432513ea 0x55f6432bf3b5 0x55f64325130a 0x55f6432bf3b5\n",
            "\u001b[K     |█████████████████████▋          | 1336.2MB 1.4MB/s eta 0:07:48tcmalloc: large alloc 1792966656 bytes == 0x55f6df900000 @  0x7f54d6cbf615 0x55f64324ccdc 0x55f64332c52a 0x55f64324fafd 0x55f643340fed 0x55f6432c3988 0x55f6432be4ae 0x55f6432513ea 0x55f6432c37f0 0x55f6432be4ae 0x55f6432513ea 0x55f6432c032a 0x55f643341e36 0x55f6432bf853 0x55f643341e36 0x55f6432bf853 0x55f643341e36 0x55f6432bf853 0x55f643341e36 0x55f6433c43e1 0x55f6433246a9 0x55f64328fcc4 0x55f643250559 0x55f6432c44f8 0x55f64325130a 0x55f6432bf3b5 0x55f6432be7ad 0x55f6432513ea 0x55f6432bf3b5 0x55f64325130a 0x55f6432bf3b5\n",
            "\u001b[K     |███████████████████████████▎    | 1691.1MB 1.3MB/s eta 0:03:46tcmalloc: large alloc 2241208320 bytes == 0x55f645abe000 @  0x7f54d6cbf615 0x55f64324ccdc 0x55f64332c52a 0x55f64324fafd 0x55f643340fed 0x55f6432c3988 0x55f6432be4ae 0x55f6432513ea 0x55f6432c37f0 0x55f6432be4ae 0x55f6432513ea 0x55f6432c032a 0x55f643341e36 0x55f6432bf853 0x55f643341e36 0x55f6432bf853 0x55f643341e36 0x55f6432bf853 0x55f643341e36 0x55f6433c43e1 0x55f6433246a9 0x55f64328fcc4 0x55f643250559 0x55f6432c44f8 0x55f64325130a 0x55f6432bf3b5 0x55f6432be7ad 0x55f6432513ea 0x55f6432bf3b5 0x55f64325130a 0x55f6432bf3b5\n",
            "\u001b[K     |████████████████████████████████| 1982.2MB 1.2MB/s eta 0:00:01tcmalloc: large alloc 1982177280 bytes == 0x55f6cb420000 @  0x7f54d6cbe1e7 0x55f643282f37 0x55f64324ccdc 0x55f64332c52a 0x55f64324fafd 0x55f643340fed 0x55f6432c3988 0x55f6432be4ae 0x55f6432513ea 0x55f6432bf60e 0x55f6432be4ae 0x55f6432513ea 0x55f6432bf60e 0x55f6432be4ae 0x55f6432513ea 0x55f6432bf60e 0x55f6432be4ae 0x55f6432513ea 0x55f6432bf60e 0x55f6432be4ae 0x55f6432513ea 0x55f6432bf60e 0x55f64325130a 0x55f6432bf60e 0x55f6432be4ae 0x55f6432513ea 0x55f6432c032a 0x55f6432be4ae 0x55f6432513ea 0x55f6432c032a 0x55f6432be4ae\n",
            "tcmalloc: large alloc 2477727744 bytes == 0x55f74167a000 @  0x7f54d6cbf615 0x55f64324ccdc 0x55f64332c52a 0x55f64324fafd 0x55f643340fed 0x55f6432c3988 0x55f6432be4ae 0x55f6432513ea 0x55f6432bf60e 0x55f6432be4ae 0x55f6432513ea 0x55f6432bf60e 0x55f6432be4ae 0x55f6432513ea 0x55f6432bf60e 0x55f6432be4ae 0x55f6432513ea 0x55f6432bf60e 0x55f6432be4ae 0x55f6432513ea 0x55f6432bf60e 0x55f64325130a 0x55f6432bf60e 0x55f6432be4ae 0x55f6432513ea 0x55f6432c032a 0x55f6432be4ae 0x55f6432513ea 0x55f6432c032a 0x55f6432be4ae 0x55f643251a81\n",
            "\u001b[K     |████████████████████████████████| 1982.2MB 3.9kB/s \n",
            "\u001b[?25hCollecting torchvision==0.9.1+cu111\n",
            "\u001b[?25l  Downloading https://download.pytorch.org/whl/lts/1.8/cu111/torchvision-0.9.1%2Bcu111-cp37-cp37m-linux_x86_64.whl (17.6MB)\n",
            "\u001b[K     |████████████████████████████████| 17.6MB 200kB/s \n",
            "\u001b[?25hCollecting torchaudio===0.8.1\n",
            "\u001b[?25l  Downloading https://files.pythonhosted.org/packages/aa/55/01ad9244bcd595e39cea5ce30726a7fe02fd963d07daeb136bfe7e23f0a5/torchaudio-0.8.1-cp37-cp37m-manylinux1_x86_64.whl (1.9MB)\n",
            "\u001b[K     |████████████████████████████████| 1.9MB 35.2MB/s \n",
            "\u001b[?25hRequirement already satisfied: numpy in /usr/local/lib/python3.7/dist-packages (from torch==1.8.1+cu111) (1.19.5)\n",
            "Requirement already satisfied: typing-extensions in /usr/local/lib/python3.7/dist-packages (from torch==1.8.1+cu111) (3.7.4.3)\n",
            "Requirement already satisfied: pillow>=4.1.1 in /usr/local/lib/python3.7/dist-packages (from torchvision==0.9.1+cu111) (7.1.2)\n",
            "\u001b[31mERROR: torchtext 0.10.0 has requirement torch==1.9.0, but you'll have torch 1.8.1+cu111 which is incompatible.\u001b[0m\n",
            "Installing collected packages: torch, torchvision, torchaudio\n",
            "  Found existing installation: torch 1.9.0+cu102\n",
            "    Uninstalling torch-1.9.0+cu102:\n",
            "      Successfully uninstalled torch-1.9.0+cu102\n",
            "  Found existing installation: torchvision 0.10.0+cu102\n",
            "    Uninstalling torchvision-0.10.0+cu102:\n",
            "      Successfully uninstalled torchvision-0.10.0+cu102\n",
            "Successfully installed torch-1.8.1+cu111 torchaudio-0.8.1 torchvision-0.9.1+cu111\n"
          ],
          "name": "stdout"
        }
      ]
    },
    {
      "cell_type": "code",
      "metadata": {
        "colab": {
          "base_uri": "https://localhost:8080/"
        },
        "id": "n-Ht3BerpbJ6",
        "outputId": "355724cc-5564-4ec0-d333-17561230e13f"
      },
      "source": [
        "!pip install git+https://github.com/PrithivirajDamodaran/Gramformer.git"
      ],
      "execution_count": 2,
      "outputs": [
        {
          "output_type": "stream",
          "text": [
            "Collecting git+https://github.com/PrithivirajDamodaran/Gramformer.git\n",
            "  Cloning https://github.com/PrithivirajDamodaran/Gramformer.git to /tmp/pip-req-build-j49d0gh7\n",
            "  Running command git clone -q https://github.com/PrithivirajDamodaran/Gramformer.git /tmp/pip-req-build-j49d0gh7\n",
            "Collecting transformers\n",
            "\u001b[?25l  Downloading https://files.pythonhosted.org/packages/fd/1a/41c644c963249fd7f3836d926afa1e3f1cc234a1c40d80c5f03ad8f6f1b2/transformers-4.8.2-py3-none-any.whl (2.5MB)\n",
            "\u001b[K     |████████████████████████████████| 2.5MB 30.5MB/s \n",
            "\u001b[?25hCollecting sentencepiece==0.1.95\n",
            "\u001b[?25l  Downloading https://files.pythonhosted.org/packages/f5/99/e0808cb947ba10f575839c43e8fafc9cc44e4a7a2c8f79c60db48220a577/sentencepiece-0.1.95-cp37-cp37m-manylinux2014_x86_64.whl (1.2MB)\n",
            "\u001b[K     |████████████████████████████████| 1.2MB 55.8MB/s \n",
            "\u001b[?25hCollecting python-Levenshtein==0.12.2\n",
            "\u001b[?25l  Downloading https://files.pythonhosted.org/packages/2a/dc/97f2b63ef0fa1fd78dcb7195aca577804f6b2b51e712516cc0e902a9a201/python-Levenshtein-0.12.2.tar.gz (50kB)\n",
            "\u001b[K     |████████████████████████████████| 51kB 9.0MB/s \n",
            "\u001b[?25hCollecting fuzzywuzzy==0.18.0\n",
            "  Downloading https://files.pythonhosted.org/packages/43/ff/74f23998ad2f93b945c0309f825be92e04e0348e062026998b5eefef4c33/fuzzywuzzy-0.18.0-py2.py3-none-any.whl\n",
            "Collecting tokenizers==0.10.2\n",
            "\u001b[?25l  Downloading https://files.pythonhosted.org/packages/ae/04/5b870f26a858552025a62f1649c20d29d2672c02ff3c3fb4c688ca46467a/tokenizers-0.10.2-cp37-cp37m-manylinux2010_x86_64.whl (3.3MB)\n",
            "\u001b[K     |████████████████████████████████| 3.3MB 52.8MB/s \n",
            "\u001b[?25hCollecting fsspec==2021.5.0\n",
            "\u001b[?25l  Downloading https://files.pythonhosted.org/packages/bc/52/816d1a3a599176057bf29dfacb1f8fadb61d35fbd96cb1bab4aaa7df83c0/fsspec-2021.5.0-py3-none-any.whl (111kB)\n",
            "\u001b[K     |████████████████████████████████| 112kB 54.7MB/s \n",
            "\u001b[?25hCollecting lm-scorer==0.4.2\n",
            "  Downloading https://files.pythonhosted.org/packages/c8/89/d86ee877bfa51104b338a67413c76b6fde50a76c7b7e0c55c546effe97e9/lm_scorer-0.4.2-py3-none-any.whl\n",
            "Collecting errant\n",
            "\u001b[?25l  Downloading https://files.pythonhosted.org/packages/a4/d9/ae6380da5b0edaf5aa460f6fb9ff432c06728abbf091e340d5fea130978c/errant-2.2.3-py3-none-any.whl (497kB)\n",
            "\u001b[K     |████████████████████████████████| 501kB 51.7MB/s \n",
            "\u001b[?25hRequirement already satisfied: importlib-metadata; python_version < \"3.8\" in /usr/local/lib/python3.7/dist-packages (from transformers->gramformer==1.0) (4.6.0)\n",
            "Requirement already satisfied: packaging in /usr/local/lib/python3.7/dist-packages (from transformers->gramformer==1.0) (20.9)\n",
            "Requirement already satisfied: filelock in /usr/local/lib/python3.7/dist-packages (from transformers->gramformer==1.0) (3.0.12)\n",
            "Requirement already satisfied: numpy>=1.17 in /usr/local/lib/python3.7/dist-packages (from transformers->gramformer==1.0) (1.19.5)\n",
            "Requirement already satisfied: requests in /usr/local/lib/python3.7/dist-packages (from transformers->gramformer==1.0) (2.23.0)\n",
            "Collecting sacremoses\n",
            "\u001b[?25l  Downloading https://files.pythonhosted.org/packages/75/ee/67241dc87f266093c533a2d4d3d69438e57d7a90abb216fa076e7d475d4a/sacremoses-0.0.45-py3-none-any.whl (895kB)\n",
            "\u001b[K     |████████████████████████████████| 901kB 53.9MB/s \n",
            "\u001b[?25hRequirement already satisfied: pyyaml in /usr/local/lib/python3.7/dist-packages (from transformers->gramformer==1.0) (3.13)\n",
            "Collecting huggingface-hub==0.0.12\n",
            "  Downloading https://files.pythonhosted.org/packages/2f/ee/97e253668fda9b17e968b3f97b2f8e53aa0127e8807d24a547687423fe0b/huggingface_hub-0.0.12-py3-none-any.whl\n",
            "Requirement already satisfied: tqdm>=4.27 in /usr/local/lib/python3.7/dist-packages (from transformers->gramformer==1.0) (4.41.1)\n",
            "Requirement already satisfied: regex!=2019.12.17 in /usr/local/lib/python3.7/dist-packages (from transformers->gramformer==1.0) (2019.12.20)\n",
            "Requirement already satisfied: setuptools in /usr/local/lib/python3.7/dist-packages (from python-Levenshtein==0.12.2->gramformer==1.0) (57.0.0)\n",
            "Collecting pip>=20.0.0\n",
            "\u001b[?25l  Downloading https://files.pythonhosted.org/packages/47/ca/f0d790b6e18b3a6f3bd5e80c2ee4edbb5807286c21cdd0862ca933f751dd/pip-21.1.3-py3-none-any.whl (1.5MB)\n",
            "\u001b[K     |████████████████████████████████| 1.6MB 46.3MB/s \n",
            "\u001b[?25hRequirement already satisfied: torch<2.0.0,>=1.4.0 in /usr/local/lib/python3.7/dist-packages (from lm-scorer==0.4.2->gramformer==1.0) (1.8.1+cu111)\n",
            "Requirement already satisfied: spacy<3,>=2.2.0 in /usr/local/lib/python3.7/dist-packages (from errant->gramformer==1.0) (2.2.4)\n",
            "Requirement already satisfied: typing-extensions>=3.6.4; python_version < \"3.8\" in /usr/local/lib/python3.7/dist-packages (from importlib-metadata; python_version < \"3.8\"->transformers->gramformer==1.0) (3.7.4.3)\n",
            "Requirement already satisfied: zipp>=0.5 in /usr/local/lib/python3.7/dist-packages (from importlib-metadata; python_version < \"3.8\"->transformers->gramformer==1.0) (3.4.1)\n",
            "Requirement already satisfied: pyparsing>=2.0.2 in /usr/local/lib/python3.7/dist-packages (from packaging->transformers->gramformer==1.0) (2.4.7)\n",
            "Requirement already satisfied: idna<3,>=2.5 in /usr/local/lib/python3.7/dist-packages (from requests->transformers->gramformer==1.0) (2.10)\n",
            "Requirement already satisfied: chardet<4,>=3.0.2 in /usr/local/lib/python3.7/dist-packages (from requests->transformers->gramformer==1.0) (3.0.4)\n",
            "Requirement already satisfied: certifi>=2017.4.17 in /usr/local/lib/python3.7/dist-packages (from requests->transformers->gramformer==1.0) (2021.5.30)\n",
            "Requirement already satisfied: urllib3!=1.25.0,!=1.25.1,<1.26,>=1.21.1 in /usr/local/lib/python3.7/dist-packages (from requests->transformers->gramformer==1.0) (1.24.3)\n",
            "Requirement already satisfied: click in /usr/local/lib/python3.7/dist-packages (from sacremoses->transformers->gramformer==1.0) (7.1.2)\n",
            "Requirement already satisfied: six in /usr/local/lib/python3.7/dist-packages (from sacremoses->transformers->gramformer==1.0) (1.15.0)\n",
            "Requirement already satisfied: joblib in /usr/local/lib/python3.7/dist-packages (from sacremoses->transformers->gramformer==1.0) (1.0.1)\n",
            "Requirement already satisfied: cymem<2.1.0,>=2.0.2 in /usr/local/lib/python3.7/dist-packages (from spacy<3,>=2.2.0->errant->gramformer==1.0) (2.0.5)\n",
            "Requirement already satisfied: thinc==7.4.0 in /usr/local/lib/python3.7/dist-packages (from spacy<3,>=2.2.0->errant->gramformer==1.0) (7.4.0)\n",
            "Requirement already satisfied: srsly<1.1.0,>=1.0.2 in /usr/local/lib/python3.7/dist-packages (from spacy<3,>=2.2.0->errant->gramformer==1.0) (1.0.5)\n",
            "Requirement already satisfied: preshed<3.1.0,>=3.0.2 in /usr/local/lib/python3.7/dist-packages (from spacy<3,>=2.2.0->errant->gramformer==1.0) (3.0.5)\n",
            "Requirement already satisfied: catalogue<1.1.0,>=0.0.7 in /usr/local/lib/python3.7/dist-packages (from spacy<3,>=2.2.0->errant->gramformer==1.0) (1.0.0)\n",
            "Requirement already satisfied: blis<0.5.0,>=0.4.0 in /usr/local/lib/python3.7/dist-packages (from spacy<3,>=2.2.0->errant->gramformer==1.0) (0.4.1)\n",
            "Requirement already satisfied: wasabi<1.1.0,>=0.4.0 in /usr/local/lib/python3.7/dist-packages (from spacy<3,>=2.2.0->errant->gramformer==1.0) (0.8.2)\n",
            "Requirement already satisfied: murmurhash<1.1.0,>=0.28.0 in /usr/local/lib/python3.7/dist-packages (from spacy<3,>=2.2.0->errant->gramformer==1.0) (1.0.5)\n",
            "Requirement already satisfied: plac<1.2.0,>=0.9.6 in /usr/local/lib/python3.7/dist-packages (from spacy<3,>=2.2.0->errant->gramformer==1.0) (1.1.3)\n",
            "Building wheels for collected packages: gramformer, python-Levenshtein\n",
            "  Building wheel for gramformer (setup.py) ... \u001b[?25l\u001b[?25hdone\n",
            "  Created wheel for gramformer: filename=gramformer-1.0-cp37-none-any.whl size=7822 sha256=f04d8df86277a39dbeba4d2e2840bf11a521d61a98e7d8bb4471c1c470a62ac4\n",
            "  Stored in directory: /tmp/pip-ephem-wheel-cache-jvl72qt_/wheels/b8/35/c2/5479786d648505c55c84349e47553e2f6f1e51032d6f534b8b\n",
            "  Building wheel for python-Levenshtein (setup.py) ... \u001b[?25l\u001b[?25hdone\n",
            "  Created wheel for python-Levenshtein: filename=python_Levenshtein-0.12.2-cp37-cp37m-linux_x86_64.whl size=149825 sha256=cba9eb8ba78a58a4443ad71252c64a6b72e47d00123278a5d2443e33ed60ce71\n",
            "  Stored in directory: /root/.cache/pip/wheels/b3/26/73/4b48503bac73f01cf18e52cd250947049a7f339e940c5df8fc\n",
            "Successfully built gramformer python-Levenshtein\n",
            "\u001b[31mERROR: lm-scorer 0.4.2 has requirement transformers<3.0.0,>=2.9.0, but you'll have transformers 4.8.2 which is incompatible.\u001b[0m\n",
            "Installing collected packages: sacremoses, huggingface-hub, tokenizers, transformers, sentencepiece, python-Levenshtein, fuzzywuzzy, fsspec, pip, lm-scorer, errant, gramformer\n",
            "  Found existing installation: pip 19.3.1\n",
            "    Uninstalling pip-19.3.1:\n",
            "      Successfully uninstalled pip-19.3.1\n",
            "Successfully installed errant-2.2.3 fsspec-2021.5.0 fuzzywuzzy-0.18.0 gramformer-1.0 huggingface-hub-0.0.12 lm-scorer-0.4.2 pip-21.1.3 python-Levenshtein-0.12.2 sacremoses-0.0.45 sentencepiece-0.1.95 tokenizers-0.10.2 transformers-4.8.2\n"
          ],
          "name": "stdout"
        }
      ]
    },
    {
      "cell_type": "code",
      "metadata": {
        "colab": {
          "base_uri": "https://localhost:8080/"
        },
        "id": "9IiwMhH5qXCq",
        "outputId": "3507078c-8db5-4ae8-82c8-42b01761966b"
      },
      "source": [
        "from gramformer import Gramformer\n",
        "gf = Gramformer(models=1, use_gpu=True) # 0 = detector, 1 = highlighter, 2 = corrector, 3 = all"
      ],
      "execution_count": 28,
      "outputs": [
        {
          "output_type": "stream",
          "text": [
            "[Gramformer] Grammar error correct/highlight model loaded..\n"
          ],
          "name": "stdout"
        }
      ]
    },
    {
      "cell_type": "code",
      "metadata": {
        "id": "mwqzx_9msaNo",
        "outputId": "436fe8fa-64be-4486-ede3-37e1df14b436",
        "colab": {
          "base_uri": "https://localhost:8080/"
        }
      },
      "source": [
        "gf.correct('''I am a Fourth-Year student at MITWPU, worked in various domains but found a keen interest in the developing field that is AI, ML, Deep Learning &\n",
        "Data Science. I took the challenge of setting up the differences in the previous deep learning model, worked in a few of the most important machine\n",
        "learning models be it natural language processing or regression models, classification clustering, etc. Also recently joined on demand, a community\n",
        "of flutter development. It's my thought that everything couldn't be showed up on the script, so decided to work on an interface to show up my skills.\n",
        "Besides that, I have made few projects and an IEEE research paper to go along with, certainly feel that it's not always your technical skills that define\n",
        "your personality. Therefore made up my mind to work towards soft skills. To shorten it all my motto is to inhabit the culture of development and\n",
        "influence people to road of automation''')"
      ],
      "execution_count": 29,
      "outputs": [
        {
          "output_type": "execute_result",
          "data": {
            "text/plain": [
              "[('I am a fourth-year student at MITWPU, worked in various domains but found a keen interest in the developing field that is AI, ML, Deep Learning & Data Science. I took the challenge of setting up the differences in the previous deep learning model, worked on a',\n",
              "  -242.75942993164062)]"
            ]
          },
          "metadata": {
            "tags": []
          },
          "execution_count": 29
        }
      ]
    },
    {
      "cell_type": "code",
      "metadata": {
        "id": "rRDPla9_sk3p"
      },
      "source": [
        ""
      ],
      "execution_count": null,
      "outputs": []
    }
  ]
}